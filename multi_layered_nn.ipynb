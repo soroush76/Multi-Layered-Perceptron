{
 "cells": [
  {
   "cell_type": "code",
   "execution_count": 1,
   "metadata": {
    "colab": {
     "autoexec": {
      "startup": false,
      "wait_interval": 0
     },
     "base_uri": "https://localhost:8080/",
     "height": 106
    },
    "colab_type": "code",
    "executionInfo": {
     "elapsed": 32989,
     "status": "ok",
     "timestamp": 1526833704562,
     "user": {
      "displayName": "soroush Hashemi",
      "photoUrl": "//lh5.googleusercontent.com/-eRnGp28C2NU/AAAAAAAAAAI/AAAAAAAAAC4/Rp-e87vQOaU/s50-c-k-no/photo.jpg",
      "userId": "110326575601442170965"
     },
     "user_tz": -270
    },
    "id": "qbu17W8U4ABn",
    "outputId": "3ce1c041-7e4a-49fa-92dd-e9ba95888d19"
   },
   "outputs": [],
   "source": [
    "# !apt-get install -y -qq software-properties-common python-software-properties module-init-tools\n",
    "\n",
    "# !add-apt-repository -y ppa:alessandro-strada/ppa 2>&1 > /dev/null\n",
    "\n",
    "# !apt-get update -qq 2>&1 > /dev/null\n",
    "\n",
    "# !apt-get -y install -qq google-drive-ocamlfuse fuse\n",
    "\n",
    "\n",
    "# from google.colab import auth\n",
    "\n",
    "# auth.authenticate_user()\n",
    "\n",
    "\n",
    "# from oauth2client.client import GoogleCredentials\n",
    "\n",
    "# creds = GoogleCredentials.get_application_default()\n",
    "\n",
    "# import getpass\n",
    "\n",
    "# !google-drive-ocamlfuse -headless -id={creds.client_id} -secret={creds.client_secret} < /dev/null 2>&1 | grep URL\n",
    "\n",
    "# vcode = getpass.getpass()\n",
    "\n",
    "# !echo {vcode} | google-drive-ocamlfuse -headless -id={creds.client_id} -secret={creds.client_secret}\n",
    "\n",
    "\n",
    "# !mkdir -p drive\n",
    "\n",
    "# !google-drive-ocamlfuse drive"
   ]
  },
  {
   "cell_type": "code",
   "execution_count": 2,
   "metadata": {
    "colab": {
     "autoexec": {
      "startup": false,
      "wait_interval": 0
     }
    },
    "colab_type": "code",
    "id": "0u7IgbUp4lWZ"
   },
   "outputs": [],
   "source": [
    "import numpy as np\n",
    "import csv\n",
    "from sklearn.model_selection import train_test_split\n",
    "from sklearn.utils import shuffle\n",
    "from scipy.sparse import coo_matrix"
   ]
  },
  {
   "cell_type": "code",
   "execution_count": 3,
   "metadata": {
    "colab": {
     "autoexec": {
      "startup": false,
      "wait_interval": 0
     }
    },
    "colab_type": "code",
    "id": "5nONXFcn4sa7"
   },
   "outputs": [],
   "source": [
    "def load_data(): # load dataset from breast cancer file\n",
    "    samples = []\n",
    "    labels = []\n",
    "    # with open('drive/MyColab/magic04_data.csv', 'r') as csvfile:\n",
    "    with open('breastcancer_data.csv', 'r') as csvfile:\n",
    "        reader = csv.reader(csvfile)\n",
    "        for row in reader:\n",
    "            if row[1] == 'M': labels.append(1)\n",
    "            else: labels.append(0)\n",
    "\n",
    "            samples.append([float(i) for i in row[2:]])\n",
    "    samples, labels = np.array(samples), np.array(labels).reshape(-1, 1) # prevent returning a ranked-1-array\n",
    "    samples = (samples - np.mean(samples, axis=1).reshape(-1, 1))/np.std(samples, axis=1).reshape(-1, 1)\n",
    "\n",
    "    return samples, labels"
   ]
  },
  {
   "cell_type": "code",
   "execution_count": 4,
   "metadata": {
    "colab": {
     "autoexec": {
      "startup": false,
      "wait_interval": 0
     }
    },
    "colab_type": "code",
    "id": "2-6j5r_z4tp0"
   },
   "outputs": [],
   "source": [
    "def initialize_parameters(n_input, n_hidden): # initialize parameters with tiny random numbers\n",
    "    num_of_layers = len(n_hidden)\n",
    "    parameters = {}\n",
    "    \n",
    "    parameters['w1'] = np.random.randn(n_hidden[0], n_input)\n",
    "    parameters['b1'] = np.random.randn(n_hidden[0], 1)\n",
    "    \n",
    "    for i in range(1, num_of_layers):\n",
    "        parameters['w'+str(i+1)] = np.random.randn(n_hidden[i], n_hidden[i-1])\n",
    "        parameters['b'+str(i+1)] = np.random.randn(n_hidden[i], 1)\n",
    "    \n",
    "    parameters['w'+str(num_of_layers+1)] = np.random.randn(1, n_hidden[num_of_layers-1])\n",
    "    parameters['b'+str(num_of_layers+1)] = np.random.randn(1, 1)\n",
    "\n",
    "    return parameters"
   ]
  },
  {
   "cell_type": "code",
   "execution_count": 5,
   "metadata": {
    "colab": {
     "autoexec": {
      "startup": false,
      "wait_interval": 0
     }
    },
    "colab_type": "code",
    "id": "vpRm8rbH4xXL"
   },
   "outputs": [],
   "source": [
    "def sigmoid(z):\n",
    "    return 1/(1 + np.exp(-z))\n",
    "\n",
    "def relu(z):\n",
    "    z_temp = z.copy()\n",
    "    z_temp[z < 0] = 0\n",
    "    return z_temp\n",
    "\n",
    "def relu_derivative(z):\n",
    "    z_temp = np.zeros(z.shape)\n",
    "    z_temp[z >= 0] = 1\n",
    "    return z_temp"
   ]
  },
  {
   "cell_type": "code",
   "execution_count": 6,
   "metadata": {
    "colab": {
     "autoexec": {
      "startup": false,
      "wait_interval": 0
     }
    },
    "colab_type": "code",
    "id": "QW-sZthL40F7"
   },
   "outputs": [],
   "source": [
    "def forward_prop(x, parameters, activation):\n",
    "    cache = {}\n",
    "    last_neuron = len(parameters) // 2\n",
    "    cache['a'+str(0)] = x\n",
    "    \n",
    "    for l in range(1, last_neuron+1):\n",
    "        cache['z'+str(l)] = np.dot(parameters['w'+str(l)], cache['a'+str(l-1)]) + parameters['b'+str(l)]\n",
    "        if l == last_neuron: cache['a'+str(last_neuron)] = sigmoid(cache['z'+str(last_neuron)])\n",
    "        elif activation == 'relu': cache['a'+str(l)] = relu(cache['z'+str(l)])\n",
    "        elif activation == 'sigmoid': cache['a'+str(l)] = sigmoid(cache['z'+str(l)])\n",
    "        elif activation == 'tanh': cache['a'+str(l)] = np.tanh(cache['z'+str(l)])\n",
    "        \n",
    "#     cache['z'+str(last_neuron)] = np.dot(parameters['w'+str(last_neuron)], cache['a'+str(last_neuron-1)]) + parameters['b'+str(last_neuron)]\n",
    "#     cache['a'+str(last_neuron)] = sigmoid(cache['z'+str(last_neuron)])\n",
    "\n",
    "    return cache"
   ]
  },
  {
   "cell_type": "code",
   "execution_count": 7,
   "metadata": {
    "colab": {
     "autoexec": {
      "startup": false,
      "wait_interval": 0
     }
    },
    "colab_type": "code",
    "id": "WuubFzLY42uO"
   },
   "outputs": [],
   "source": [
    "def back_prop(x, y, cache, parameters, activation):\n",
    "    m = x.shape[1]\n",
    "    gradients = {}\n",
    "    last_neuron = len(parameters) // 2\n",
    "    \n",
    "#     A = cache['a' + str(last_neuron)]\n",
    "#     gradients['da'+str(last_neuron)] = -(np.divide(y, A) - np.divide(1-y, 1-A))\n",
    "#     gradients['dz' + str(last_neuron)] = gradients['da' + str(last_neuron)] * (sigmoid(cache['z'+str(last_neuron)])*(1 - sigmoid(cache['z'+str(last_neuron)])))\n",
    "    gradients['dz'+str(last_neuron)] = cache['a'+str(last_neuron)] - y.T\n",
    "    gradients['dw'+str(last_neuron)] = 1/m * np.dot(gradients['dz'+str(last_neuron)], cache['a'+str(last_neuron-1)].T)\n",
    "    gradients['db'+str(last_neuron)] = 1/m * np.sum(gradients['dz'+str(last_neuron)], axis=1, keepdims=True)\n",
    "        \n",
    "    for i in reversed(range(1, last_neuron)):\n",
    "        if activation == 'sigmoid': gradients['dz'+str(i)] = np.dot(parameters['w'+str(i+1)].T, \n",
    "                                                                    gradients['dz'+str(i+1)]) * (sigmoid(cache['z'+str(i)])*(1 - sigmoid(cache['z'+str(i)])))\n",
    "        elif activation == 'relu': gradients['dz'+str(i)] = np.dot(parameters['w'+str(i+1)].T, \n",
    "                                                                   gradients['dz'+str(i+1)]) * relu_derivative(cache['z'+str(i)])\n",
    "        elif activation == 'tanh': gradients['dz'+str(i)] = np.dot(parameters['w'+str(i+1)].T, \n",
    "                                                                   gradients['dz'+str(i+1)]) * (1 - np.power(np.tanh(cache['z'+str(i)]), 2))\n",
    "        gradients['dw'+str(i)] = 1/m * np.dot(gradients['dz'+str(i)], cache['a'+str(i-1)].T)\n",
    "        gradients['db'+str(i)] = 1/m * np.sum(gradients['dz'+str(i)], axis=1, keepdims=True)\n",
    "    \n",
    "    return gradients"
   ]
  },
  {
   "cell_type": "code",
   "execution_count": 8,
   "metadata": {},
   "outputs": [],
   "source": [
    "def cost_function(m, labels, y_hat):\n",
    "    logprobs = np.sum(labels * np.log(y_hat)) + np.sum((1-labels) * np.log(1 - y_hat))\n",
    "    return -1/m * logprobs"
   ]
  },
  {
   "cell_type": "code",
   "execution_count": 9,
   "metadata": {
    "colab": {
     "autoexec": {
      "startup": false,
      "wait_interval": 0
     }
    },
    "colab_type": "code",
    "id": "PSEIPO6845Zr"
   },
   "outputs": [],
   "source": [
    "def multi_Layered_NN(samples, labels, activation, n_hidden, num_iterations, learning_rate, print_cost=False):\n",
    "    m = samples.shape[1]\n",
    "    params = initialize_parameters(samples.shape[0], n_hidden)\n",
    "    cost_history = []\n",
    "    last_neuron = len(params) // 2\n",
    "    \n",
    "    for i in range(num_iterations+1):\n",
    "        cache = forward_prop(samples, params, activation)\n",
    "        \n",
    "        cost = cost_function(m, labels, cache['a'+str(last_neuron)].T)\n",
    "        \n",
    "        gradients = back_prop(samples, labels, cache, params, activation)\n",
    "        for j in range(1, last_neuron+1):\n",
    "            params['w'+str(j)] -= learning_rate * gradients['dw'+str(j)]\n",
    "            params['b'+str(j)] -= learning_rate * gradients['db'+str(j)]\n",
    "\n",
    "        if print_cost and i%1000 == 0: \n",
    "            print('cost after epoch {}: {}'.format(int(i/1000), cost))\n",
    "            cost_history.append(cost)\n",
    "\n",
    "    return {'parameters':params, \n",
    "            'cache': cache,\n",
    "            'cost_history':cost_history\n",
    "           }\n"
   ]
  },
  {
   "cell_type": "code",
   "execution_count": 10,
   "metadata": {
    "colab": {
     "autoexec": {
      "startup": false,
      "wait_interval": 0
     }
    },
    "colab_type": "code",
    "id": "my_b07jt49FW"
   },
   "outputs": [],
   "source": [
    "def predict(x, parameters, activation):\n",
    "    last_neuron = len(parameters) // 2\n",
    "    cache = forward_prop(x.T, parameters, activation)\n",
    "    y_hat = cache['a'+str(last_neuron)]\n",
    "    y_hat[y_hat >= 0.5] = 1\n",
    "    y_hat[y_hat < 0.5] = 0\n",
    "\n",
    "    return y_hat.T"
   ]
  },
  {
   "cell_type": "code",
   "execution_count": 11,
   "metadata": {},
   "outputs": [],
   "source": [
    "# samples, labels = load_data()\n",
    "from sklearn.datasets import load_breast_cancer\n",
    "samples, labels = load_breast_cancer(return_X_y=True)\n",
    "labels = labels.reshape(-1, 1)\n",
    "\n",
    "samples = (samples - np.mean(samples, axis=1).reshape(-1, 1))/(np.max(samples, axis=1).reshape(-1, 1) - np.min(samples, axis=1).reshape(-1, 1))\n",
    "# samples = (samples - np.mean(samples, axis=1).reshape(-1, 1))/(np.std(samples, axis=1)).reshape(-1, 1)\n",
    "\n",
    "# samples_sparse = coo_matrix(samples)\n",
    "# samples, samples_sparse, labels = shuffle(samples, samples_sparse, labels)\n",
    "\n",
    "train_data, test_data, train_label, test_label = train_test_split(samples, labels, test_size=0.25, random_state=4)"
   ]
  },
  {
   "cell_type": "code",
   "execution_count": 14,
   "metadata": {
    "colab": {
     "autoexec": {
      "startup": false,
      "wait_interval": 0
     },
     "base_uri": "https://localhost:8080/",
     "height": 225
    },
    "colab_type": "code",
    "executionInfo": {
     "elapsed": 1897057,
     "status": "ok",
     "timestamp": 1526839410049,
     "user": {
      "displayName": "soroush Hashemi",
      "photoUrl": "//lh5.googleusercontent.com/-eRnGp28C2NU/AAAAAAAAAAI/AAAAAAAAAC4/Rp-e87vQOaU/s50-c-k-no/photo.jpg",
      "userId": "110326575601442170965"
     },
     "user_tz": -270
    },
    "id": "ycSNfwRy4-3_",
    "outputId": "ab29b2c4-1992-4c77-d22b-a88a3d987aa9"
   },
   "outputs": [
    {
     "name": "stdout",
     "output_type": "stream",
     "text": [
      "cost after epoch 0: 2.780746665694302\n",
      "cost after epoch 1: 0.1752110307933066\n",
      "cost after epoch 2: 0.14852927534874197\n",
      "cost after epoch 3: 0.14110232380998755\n",
      "cost after epoch 4: 0.13688123346852327\n",
      "cost after epoch 5: 0.1336673713412173\n",
      "cost after epoch 6: 0.13110329007342478\n",
      "cost after epoch 7: 0.12897798500200103\n",
      "accuracy on train set: 95.07042253521126 %\n",
      "accuracy on test set: 87.41258741258741 %\n"
     ]
    }
   ],
   "source": [
    "model = multi_Layered_NN(train_data.T, train_label, activation='tanh', n_hidden=[100, 100, 100], num_iterations=7000, learning_rate=0.001, print_cost=True)\n",
    "pred_labels = predict(train_data, parameters=model['parameters'], activation='tanh')\n",
    "print('accuracy on train set:', (np.sum(pred_labels == train_label)/pred_labels.size) * 100, '%')\n",
    "pred_labels = predict(test_data, parameters=model['parameters'], activation='tanh')\n",
    "print('accuracy on test set:', (np.sum(pred_labels == test_label)/pred_labels.size) * 100, '%')"
   ]
  },
  {
   "cell_type": "code",
   "execution_count": 208,
   "metadata": {},
   "outputs": [
    {
     "data": {
      "image/png": "[encoded data removed]",
      "text/plain": [
       "<matplotlib.figure.Figure at 0x7f38ba422ef0>"
      ]
     },
     "metadata": {},
     "output_type": "display_data"
    }
   ],
   "source": [
    "import matplotlib.pyplot as plt\n",
    "\n",
    "plt.plot(range(len(model['cost_history'])), model['cost_history'])\n",
    "plt.show()"
   ]
  },
  {
   "cell_type": "code",
   "execution_count": 185,
   "metadata": {
    "colab": {
     "autoexec": {
      "startup": false,
      "wait_interval": 0
     }
    },
    "colab_type": "code",
    "id": "g1fjZOZA5AqC"
   },
   "outputs": [
    {
     "name": "stderr",
     "output_type": "stream",
     "text": [
      "/usr/local/lib/python3.6/dist-packages/sklearn/neural_network/multilayer_perceptron.py:912: DataConversionWarning: A column-vector y was passed when a 1d array was expected. Please change the shape of y to (n_samples, ), for example using ravel().\n",
      "  y = column_or_1d(y, warn=True)\n"
     ]
    },
    {
     "name": "stdout",
     "output_type": "stream",
     "text": [
      "accuracy on train set: 61.502347417840376\n",
      "accuracy on test set: 66.43356643356644\n",
      "loss: 0.6728075176386961\n"
     ]
    }
   ],
   "source": [
    "from sklearn.neural_network import MLPClassifier\n",
    "\n",
    "clf = MLPClassifier(hidden_layer_sizes=(5,5,3), activation='relu', solver='sgd', alpha=0, learning_rate_init=0.001, max_iter=7000)\n",
    "clf.fit(train_data, train_label)\n",
    "\n",
    "print('accuracy on train set:', clf.score(train_data, train_label)*100)\n",
    "print('accuracy on test set:', clf.score(test_data, test_label)*100)\n",
    "print('loss:', clf.loss_)"
   ]
  },
  {
   "cell_type": "code",
   "execution_count": 111,
   "metadata": {},
   "outputs": [
    {
     "data": {
      "text/plain": [
       "1432.2081049701555"
      ]
     },
     "execution_count": 111,
     "metadata": {},
     "output_type": "execute_result"
    }
   ],
   "source": [
    "960.9234168678619 / 0.670938401712149"
   ]
  },
  {
   "cell_type": "code",
   "execution_count": null,
   "metadata": {},
   "outputs": [],
   "source": []
  }
 ],
 "metadata": {
  "accelerator": "GPU",
  "colab": {
   "collapsed_sections": [],
   "default_view": {},
   "name": "Copy of Copy of 2_layered_nn.ipynb",
   "provenance": [
    {
     "file_id": "1o1u4EaQdlQ71NITAORhkZCc0dwPCS5Sn",
     "timestamp": 1526839703475
    },
    {
     "file_id": "1xOHj7OAibLd9i85-hlDIlyXKUmEjtwdB",
     "timestamp": 1526758920791
    }
   ],
   "version": "0.3.2",
   "views": {}
  },
  "kernelspec": {
   "display_name": "Python 3",
   "language": "python",
   "name": "python3"
  },
  "language_info": {
   "codemirror_mode": {
    "name": "ipython",
    "version": 3
   },
   "file_extension": ".py",
   "mimetype": "text/x-python",
   "name": "python",
   "nbconvert_exporter": "python",
   "pygments_lexer": "ipython3",
   "version": "3.6.3"
  }
 },
 "nbformat": 4,
 "nbformat_minor": 1
}
